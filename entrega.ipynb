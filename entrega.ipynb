{
 "cells": [
  {
   "cell_type": "code",
   "execution_count": 19,
   "metadata": {},
   "outputs": [],
   "source": [
    "import cv2\n",
    "import time\n",
    "import FaceNormalizationUtils as faceutils\n",
    "import numpy as np\n",
    "import FaceDetectors"
   ]
  },
  {
   "cell_type": "code",
   "execution_count": 20,
   "metadata": {},
   "outputs": [
    {
     "name": "stdout",
     "output_type": "stream",
     "text": [
      "Camera 0\n"
     ]
    },
    {
     "ename": "TypeError",
     "evalue": "'cv2.VideoCapture' object does not support item assignment",
     "output_type": "error",
     "traceback": [
      "\u001b[1;31m---------------------------------------------------------------------------\u001b[0m",
      "\u001b[1;31mTypeError\u001b[0m                                 Traceback (most recent call last)",
      "\u001b[1;32mc:\\Users\\thewi\\vc_practicas\\p4\\entrega4\\P4-Deteccion-de-caras\\entrega.ipynb Cell 2\u001b[0m line \u001b[0;36m5\n\u001b[0;32m     <a href='vscode-notebook-cell:/c%3A/Users/thewi/vc_practicas/p4/entrega4/P4-Deteccion-de-caras/entrega.ipynb#W1sZmlsZQ%3D%3D?line=56'>57</a>\u001b[0m     cv2\u001b[39m.\u001b[39mcircle(frame, (x, y), \u001b[39m2\u001b[39m, (\u001b[39m255\u001b[39m, \u001b[39m255\u001b[39m, \u001b[39m255\u001b[39m), \u001b[39m-\u001b[39m\u001b[39m1\u001b[39m)\n\u001b[0;32m     <a href='vscode-notebook-cell:/c%3A/Users/thewi/vc_practicas/p4/entrega4/P4-Deteccion-de-caras/entrega.ipynb#W1sZmlsZQ%3D%3D?line=57'>58</a>\u001b[0m     strawhat \u001b[39m=\u001b[39m cv2\u001b[39m.\u001b[39mresize(strawhat, (w,h))\n\u001b[1;32m---> <a href='vscode-notebook-cell:/c%3A/Users/thewi/vc_practicas/p4/entrega4/P4-Deteccion-de-caras/entrega.ipynb#W1sZmlsZQ%3D%3D?line=58'>59</a>\u001b[0m     cap[y:y\u001b[39m+\u001b[39;49mh, x:x\u001b[39m+\u001b[39;49mw] \u001b[39m=\u001b[39m strawhat\n\u001b[0;32m     <a href='vscode-notebook-cell:/c%3A/Users/thewi/vc_practicas/p4/entrega4/P4-Deteccion-de-caras/entrega.ipynb#W1sZmlsZQ%3D%3D?line=60'>61</a>\u001b[0m cv2\u001b[39m.\u001b[39mcircle(frame, ((\u001b[39mint\u001b[39m)(lex), (\u001b[39mint\u001b[39m)(ley)), \u001b[39m4\u001b[39m, (\u001b[39m0\u001b[39m, \u001b[39m0\u001b[39m, \u001b[39m255\u001b[39m), \u001b[39m-\u001b[39m\u001b[39m1\u001b[39m)\n\u001b[0;32m     <a href='vscode-notebook-cell:/c%3A/Users/thewi/vc_practicas/p4/entrega4/P4-Deteccion-de-caras/entrega.ipynb#W1sZmlsZQ%3D%3D?line=61'>62</a>\u001b[0m cv2\u001b[39m.\u001b[39mcircle(frame, ((\u001b[39mint\u001b[39m)(rex), (\u001b[39mint\u001b[39m)(rey)), \u001b[39m4\u001b[39m, (\u001b[39m0\u001b[39m, \u001b[39m255\u001b[39m, \u001b[39m0\u001b[39m), \u001b[39m-\u001b[39m\u001b[39m1\u001b[39m)\n",
      "\u001b[1;31mTypeError\u001b[0m: 'cv2.VideoCapture' object does not support item assignment"
     ]
    },
    {
     "ename": "",
     "evalue": "",
     "output_type": "error",
     "traceback": [
      "\u001b[1;31mThe Kernel crashed while executing code in the the current cell or a previous cell. Please review the code in the cell(s) to identify a possible cause of the failure. Click <a href='https://aka.ms/vscodeJupyterKernelCrash'>here</a> for more info. View Jupyter <a href='command:jupyter.viewOutput'>log</a> for further details."
     ]
    }
   ],
   "source": [
    "normalizatorHS = faceutils.Normalization()\n",
    "\n",
    "# Face detectors interface\n",
    "FDet = FaceDetectors.FaceDetector()\n",
    "\n",
    "# Fonts\n",
    "font = cv2.FONT_HERSHEY_SIMPLEX\n",
    "\n",
    "# Images\n",
    "strawhat = cv2.imread(\"media/strawhat.png\")\n",
    "\n",
    "# Webcam connection\n",
    "cap = cv2.VideoCapture(0)\n",
    "# Check for other cameras\n",
    "if not cap.isOpened():\n",
    "    cap = cv2.VideoCapture(1)\n",
    "    if not cap.isOpened():\n",
    "        cap = cv2.VideoCapture(0)\n",
    "        if not cap.isOpened():\n",
    "            print('Camera error')\n",
    "            exit(0)\n",
    "        else:\n",
    "            print('Camera 0')\n",
    "    else:\n",
    "        print('Camera 1')\n",
    "else:\n",
    "    print('Camera 0')\n",
    "\n",
    "debug = 0\n",
    "\n",
    "#Set camera resolution\n",
    "cap.set(3,640);\n",
    "cap.set(4,480);\n",
    "\n",
    "while True:\n",
    "    # Get frame\n",
    "    t = time.time()\n",
    "    ret, frame = cap.read()\n",
    "    # For HS normalization\n",
    "    B, G, R = cv2.split(frame)\n",
    "\n",
    "    # Search face with a specific setup for face and eye detection\n",
    "    values = FDet.SingleFaceEyesDetection(frame, FDet.FaceDetectors[1], FDet.EyeDetectors[1])\n",
    "    if values is not None:\n",
    "        face, eyes, shape = values\n",
    "\n",
    "        #draws face container\n",
    "        [x, y , w, h] = face\n",
    "        if x > -1:\n",
    "            cv2.rectangle(frame, (x, y), (x + w, y + h), (255, 0, 0), 2)\n",
    "\n",
    "            # draws eyes and mask if available\n",
    "            [lex, ley, rex, rey] = eyes\n",
    "            if lex > -1:\n",
    "                # Show detected facial elements\n",
    "                for (x, y) in shape:\n",
    "                    cv2.circle(frame, (x, y), 2, (255, 255, 255), -1)\n",
    "                    strawhat = cv2.resize(strawhat, (w,h))\n",
    "\n",
    "                cv2.circle(frame, ((int)(lex), (int)(ley)), 4, (0, 0, 255), -1)\n",
    "                cv2.circle(frame, ((int)(rex), (int)(rey)), 4, (0, 255, 0), -1)\n",
    "\n",
    "\n",
    "                # Normalize and show\n",
    "                # color channels\n",
    "                normalizatorHS.normalize_gray_img(B, lex, ley, rex, rey, faceutils.Kind_wraping.HS)\n",
    "                Bnorm = normalizatorHS.normf_image\n",
    "                normalizatorHS.normalize_gray_img(G, lex, ley, rex, rey, faceutils.Kind_wraping.HS)\n",
    "                Gnorm = normalizatorHS.normf_image\n",
    "                normalizatorHS.normalize_gray_img(R, lex, ley, rex, rey, faceutils.Kind_wraping.HS)\n",
    "                Rnorm = normalizatorHS.normf_image\n",
    "                NormBGR = cv2.merge((Bnorm, Gnorm, Rnorm))\n",
    "                cv2.imshow(\"Normalized\", NormBGR)\n",
    "\n",
    "\n",
    "    if debug:\n",
    "        print(\"Processing time : {:.3f}\".format(time.time() - t))\n",
    "\n",
    "    # Show resulting image\n",
    "    cv2.putText(frame, FDet.FaceDetectors[1], (10, 20), font, 0.5, (255, 255, 255), 2, cv2.LINE_AA)\n",
    "    cv2.putText(frame, FDet.EyeDetectors[1], (50, 20), font, 0.5, (255, 255, 255), 2, cv2.LINE_AA)\n",
    "    cv2.imshow('Cam', frame)\n",
    "    \n",
    "    # Esc to finish\n",
    "    tec = cv2.waitKey(40)\n",
    "    if tec & tec == 27:  # Esc\n",
    "        break\n",
    "\n",
    "# Close windoews and release camera\n",
    "cap.release()\n",
    "cv2.destroyAllWindows()"
   ]
  }
 ],
 "metadata": {
  "kernelspec": {
   "display_name": "Python 3",
   "language": "python",
   "name": "python3"
  },
  "language_info": {
   "codemirror_mode": {
    "name": "ipython",
    "version": 3
   },
   "file_extension": ".py",
   "mimetype": "text/x-python",
   "name": "python",
   "nbconvert_exporter": "python",
   "pygments_lexer": "ipython3",
   "version": "3.11.5"
  }
 },
 "nbformat": 4,
 "nbformat_minor": 2
}
