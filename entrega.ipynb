{
 "cells": [
  {
   "cell_type": "code",
   "execution_count": 3,
   "metadata": {},
   "outputs": [],
   "source": [
    "import cv2\n",
    "import time\n",
    "import FaceNormalizationUtils as faceutils\n",
    "import numpy as np\n",
    "import FaceDetectors"
   ]
  },
  {
   "cell_type": "code",
   "execution_count": 4,
   "metadata": {},
   "outputs": [
    {
     "name": "stdout",
     "output_type": "stream",
     "text": [
      "Camera 0\n"
     ]
    },
    {
     "ename": "ValueError",
     "evalue": "could not broadcast input array from shape (149,150,3) into shape (136,150,3)",
     "output_type": "error",
     "traceback": [
      "\u001b[1;31m---------------------------------------------------------------------------\u001b[0m",
      "\u001b[1;31mValueError\u001b[0m                                Traceback (most recent call last)",
      "\u001b[1;32mc:\\Users\\thewi\\vc_practicas\\p4\\entrega4\\P4-Deteccion-de-caras\\entrega.ipynb Cell 2\u001b[0m line \u001b[0;36m5\n\u001b[0;32m     <a href='vscode-notebook-cell:/c%3A/Users/thewi/vc_practicas/p4/entrega4/P4-Deteccion-de-caras/entrega.ipynb#W1sZmlsZQ%3D%3D?line=52'>53</a>\u001b[0m strawhat \u001b[39m=\u001b[39m cv2\u001b[39m.\u001b[39mresize(strawhat, (w, h))\n\u001b[0;32m     <a href='vscode-notebook-cell:/c%3A/Users/thewi/vc_practicas/p4/entrega4/P4-Deteccion-de-caras/entrega.ipynb#W1sZmlsZQ%3D%3D?line=53'>54</a>\u001b[0m \u001b[39m# Overlay the hat image on top of the face\u001b[39;00m\n\u001b[1;32m---> <a href='vscode-notebook-cell:/c%3A/Users/thewi/vc_practicas/p4/entrega4/P4-Deteccion-de-caras/entrega.ipynb#W1sZmlsZQ%3D%3D?line=54'>55</a>\u001b[0m frame[hat_y:hat_y\u001b[39m+\u001b[39;49mh, hat_x:hat_x\u001b[39m+\u001b[39;49mw] \u001b[39m=\u001b[39m strawhat\n\u001b[0;32m     <a href='vscode-notebook-cell:/c%3A/Users/thewi/vc_practicas/p4/entrega4/P4-Deteccion-de-caras/entrega.ipynb#W1sZmlsZQ%3D%3D?line=56'>57</a>\u001b[0m \u001b[39m# draws eyes and mask if available\u001b[39;00m\n\u001b[0;32m     <a href='vscode-notebook-cell:/c%3A/Users/thewi/vc_practicas/p4/entrega4/P4-Deteccion-de-caras/entrega.ipynb#W1sZmlsZQ%3D%3D?line=57'>58</a>\u001b[0m [lex, ley, rex, rey] \u001b[39m=\u001b[39m eyes\n",
      "\u001b[1;31mValueError\u001b[0m: could not broadcast input array from shape (149,150,3) into shape (136,150,3)"
     ]
    }
   ],
   "source": [
    "normalizatorHS = faceutils.Normalization()\n",
    "\n",
    "# Face detectors interface\n",
    "FDet = FaceDetectors.FaceDetector()\n",
    "\n",
    "# Fonts\n",
    "font = cv2.FONT_HERSHEY_SIMPLEX\n",
    "\n",
    "# Images\n",
    "strawhat = cv2.imread(\"media/strawhat.png\", cv2.IMREAD_UNCHANGED)\n",
    "\n",
    "\n",
    "# Webcam connection\n",
    "cap = cv2.VideoCapture(0)\n",
    "# Check for other cameras\n",
    "if not cap.isOpened():\n",
    "    cap = cv2.VideoCapture(1)\n",
    "    if not cap.isOpened():\n",
    "        cap = cv2.VideoCapture(0)\n",
    "        if not cap.isOpened():\n",
    "            print('Camera error')\n",
    "            exit(0)\n",
    "        else:\n",
    "            print('Camera 0')\n",
    "    else:\n",
    "        print('Camera 1')\n",
    "else:\n",
    "    print('Camera 0')\n",
    "\n",
    "#Set camera resolution\n",
    "cap.set(3,640);\n",
    "cap.set(4,480);\n",
    "\n",
    "while True:\n",
    "    # Get frame\n",
    "    t = time.time()\n",
    "    ret, frame = cap.read()\n",
    "    # For HS normalization\n",
    "    B, G, R = cv2.split(frame)\n",
    "\n",
    "    # Search face with a specific setup for face and eye detection\n",
    "    values = FDet.SingleFaceEyesDetection(frame, FDet.FaceDetectors[1], FDet.EyeDetectors[0])\n",
    "    if values is not None:\n",
    "        face, eyes, shape = values\n",
    "\n",
    "        #draws face container\n",
    "        [x, y , w, h] = face\n",
    "        if x > -1:\n",
    "            hat_x = x  # You may need to adjust this depending on the desired hat placement\n",
    "            hat_y = y  # You may need to adjust this depending on the desired hat placement\n",
    "\n",
    "            # Resize the hat image to match the width and height of the detected face\n",
    "            strawhat = cv2.resize(strawhat, (w, h))\n",
    "            # Overlay the hat image on top of the face\n",
    "            frame[hat_y:hat_y+h, hat_x:hat_x+w] = strawhat\n",
    "\n",
    "            # draws eyes and mask if available\n",
    "            [lex, ley, rex, rey] = eyes\n",
    "                \n",
    "\n",
    "    # Show resulting image\n",
    "    cv2.putText(frame, FDet.FaceDetectors[1], (10, 20), font, 0.5, (255, 255, 255), 2, cv2.LINE_AA)\n",
    "    cv2.putText(frame, FDet.EyeDetectors[1], (50, 20), font, 0.5, (255, 255, 255), 2, cv2.LINE_AA)\n",
    "    cv2.imshow('Cam', frame)\n",
    "    \n",
    "    # Esc to finish\n",
    "    tec = cv2.waitKey(40)\n",
    "    if tec & tec == 27:  # Esc\n",
    "        break\n",
    "\n",
    "# Close windoews and release camera\n",
    "cap.release()\n",
    "cv2.destroyAllWindows()"
   ]
  }
 ],
 "metadata": {
  "kernelspec": {
   "display_name": "Python 3",
   "language": "python",
   "name": "python3"
  },
  "language_info": {
   "codemirror_mode": {
    "name": "ipython",
    "version": 3
   },
   "file_extension": ".py",
   "mimetype": "text/x-python",
   "name": "python",
   "nbconvert_exporter": "python",
   "pygments_lexer": "ipython3",
   "version": "3.11.5"
  }
 },
 "nbformat": 4,
 "nbformat_minor": 2
}
