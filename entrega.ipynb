{
 "cells": [
  {
   "cell_type": "code",
   "execution_count": 3,
   "metadata": {},
   "outputs": [],
   "source": [
    "import cv2\n",
    "import time\n",
    "import FaceNormalizationUtils as faceutils\n",
    "import numpy as np\n",
    "import FaceDetectors\n",
    "import imutils"
   ]
  },
  {
   "cell_type": "code",
   "execution_count": null,
   "metadata": {},
   "outputs": [],
   "source": []
  },
  {
   "cell_type": "code",
   "execution_count": 4,
   "metadata": {},
   "outputs": [],
   "source": [
    "normalizatorHS = faceutils.Normalization()\n",
    "\n",
    "# Face detectors interface\n",
    "FDet = FaceDetectors.FaceDetector()\n",
    "\n",
    "# Fonts\n",
    "font = cv2.FONT_HERSHEY_SIMPLEX\n",
    "\n",
    "# Images\n",
    "overlay_image2 = cv2.imread(\"media/strawhat2.png\", cv2.IMREAD_UNCHANGED)\n",
    "\n",
    "\n",
    "# Webcam connection\n",
    "cap = cv2.VideoCapture(0)\n",
    "# Check for other cameras\n",
    "\n",
    "#Set camera resolution\n",
    "cap.set(3,640);\n",
    "cap.set(4,480);\n",
    "\n",
    "while True:\n",
    "    # Get frame\n",
    "    t = time.time()\n",
    "    ret, frame = cap.read()\n",
    "    # For HS normalization\n",
    "    B, G, R = cv2.split(frame)\n",
    "\n",
    "    # Search face with a specific setup for face and eye detection\n",
    "    values = FDet.SingleFaceEyesDetection(frame, FDet.FaceDetectors[1], FDet.EyeDetectors[1])\n",
    "    if values is not None:\n",
    "        face, eyes, shape = values\n",
    "\n",
    "        #draws face container\n",
    "        [x, y , w, h] = face\n",
    "        if x > -1:\n",
    "            overlay_x = x\n",
    "            overlay_y = y - h\n",
    "            if overlay_x >= 0 and overlay_y >= 0:\n",
    "                overlay = cv2.resize(overlay_image2, (w, h))\n",
    "                alpha = overlay[:, :, 3] / 255.0\n",
    "                for c in range(0, 3):\n",
    "                    frame[overlay_y:overlay_y + h, overlay_x:overlay_x + w, c] = (1 - alpha) * frame[overlay_y:overlay_y + h, overlay_x:overlay_x + w, c] + alpha * overlay[:, :, c]\n",
    "            \n",
    "            # draws eyes and mask if available\n",
    "            [lex, ley, rex, rey] = eyes\n",
    "                \n",
    "\n",
    "    # Show resulting image\n",
    "    cv2.putText(frame, FDet.FaceDetectors[1], (10, 20), font, 0.5, (255, 255, 255), 2, cv2.LINE_AA)\n",
    "    cv2.putText(frame, FDet.EyeDetectors[1], (50, 20), font, 0.5, (255, 255, 255), 2, cv2.LINE_AA)\n",
    "    cv2.imshow('Cam', frame)\n",
    "    \n",
    "    # Esc to finish\n",
    "    tec = cv2.waitKey(40)\n",
    "    if tec & tec == 27:  # Esc\n",
    "        break\n",
    "\n",
    "# Close windoews and release camera\n",
    "cap.release()\n",
    "cv2.destroyAllWindows()"
   ]
  }
 ],
 "metadata": {
  "kernelspec": {
   "display_name": "Python 3",
   "language": "python",
   "name": "python3"
  },
  "language_info": {
   "codemirror_mode": {
    "name": "ipython",
    "version": 3
   },
   "file_extension": ".py",
   "mimetype": "text/x-python",
   "name": "python",
   "nbconvert_exporter": "python",
   "pygments_lexer": "ipython3",
   "version": "3.11.5"
  }
 },
 "nbformat": 4,
 "nbformat_minor": 2
}
